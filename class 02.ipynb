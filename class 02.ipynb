{
 "cells": [
  {
   "cell_type": "code",
   "execution_count": null,
   "id": "3bb28721",
   "metadata": {},
   "outputs": [],
   "source": [
    "#shift + enter -> run"
   ]
  },
  {
   "cell_type": "markdown",
   "id": "5a4a6e16",
   "metadata": {},
   "source": [
    "# Fist Class"
   ]
  },
  {
   "cell_type": "markdown",
   "id": "5d4c768a",
   "metadata": {},
   "source": [
    "Input Output Function"
   ]
  },
  {
   "cell_type": "code",
   "execution_count": 1,
   "id": "8fbf1c81",
   "metadata": {},
   "outputs": [
    {
     "name": "stdout",
     "output_type": "stream",
     "text": [
      "Hello World\n"
     ]
    }
   ],
   "source": [
    "print('Hello World')"
   ]
  },
  {
   "cell_type": "code",
   "execution_count": 2,
   "id": "f4960315",
   "metadata": {},
   "outputs": [
    {
     "name": "stdout",
     "output_type": "stream",
     "text": [
      "50\n"
     ]
    }
   ],
   "source": [
    "print(50)"
   ]
  },
  {
   "cell_type": "markdown",
   "id": "f0810278",
   "metadata": {},
   "source": [
    "Variable"
   ]
  },
  {
   "cell_type": "code",
   "execution_count": 3,
   "id": "cce0fe9a",
   "metadata": {},
   "outputs": [],
   "source": [
    "#assigne value\n",
    "x = 10 "
   ]
  },
  {
   "cell_type": "code",
   "execution_count": 4,
   "id": "2ed6bd2b",
   "metadata": {},
   "outputs": [
    {
     "data": {
      "text/plain": [
       "10"
      ]
     },
     "execution_count": 4,
     "metadata": {},
     "output_type": "execute_result"
    }
   ],
   "source": [
    "x"
   ]
  },
  {
   "cell_type": "code",
   "execution_count": 5,
   "id": "9ee3141b",
   "metadata": {},
   "outputs": [
    {
     "name": "stdout",
     "output_type": "stream",
     "text": [
      "10\n"
     ]
    }
   ],
   "source": [
    "print(x)"
   ]
  },
  {
   "cell_type": "code",
   "execution_count": 6,
   "id": "c78008dc",
   "metadata": {},
   "outputs": [
    {
     "name": "stdout",
     "output_type": "stream",
     "text": [
      "10\n"
     ]
    }
   ],
   "source": [
    "'''\n",
    "multiple\n",
    "line\n",
    "comments\n",
    "'''\n",
    "print(x)"
   ]
  },
  {
   "cell_type": "code",
   "execution_count": 7,
   "id": "cdc6080d",
   "metadata": {},
   "outputs": [],
   "source": [
    "x = 10"
   ]
  },
  {
   "cell_type": "code",
   "execution_count": 8,
   "id": "ca2b7963",
   "metadata": {},
   "outputs": [
    {
     "data": {
      "text/plain": [
       "10"
      ]
     },
     "execution_count": 8,
     "metadata": {},
     "output_type": "execute_result"
    }
   ],
   "source": [
    "x"
   ]
  },
  {
   "cell_type": "code",
   "execution_count": 9,
   "id": "2db0c29e",
   "metadata": {},
   "outputs": [],
   "source": [
    "y = 20"
   ]
  },
  {
   "cell_type": "code",
   "execution_count": 10,
   "id": "71a6b05d",
   "metadata": {},
   "outputs": [
    {
     "data": {
      "text/plain": [
       "140729620113488"
      ]
     },
     "execution_count": 10,
     "metadata": {},
     "output_type": "execute_result"
    }
   ],
   "source": [
    "id(x)"
   ]
  },
  {
   "cell_type": "code",
   "execution_count": 11,
   "id": "e90c29d9",
   "metadata": {},
   "outputs": [
    {
     "data": {
      "text/plain": [
       "140729620113808"
      ]
     },
     "execution_count": 11,
     "metadata": {},
     "output_type": "execute_result"
    }
   ],
   "source": [
    "id(y)"
   ]
  },
  {
   "cell_type": "code",
   "execution_count": 12,
   "id": "24a119bd",
   "metadata": {},
   "outputs": [],
   "source": [
    "z = y - x"
   ]
  },
  {
   "cell_type": "code",
   "execution_count": 13,
   "id": "9f5f2b67",
   "metadata": {},
   "outputs": [
    {
     "data": {
      "text/plain": [
       "140729620113488"
      ]
     },
     "execution_count": 13,
     "metadata": {},
     "output_type": "execute_result"
    }
   ],
   "source": [
    "id(z)"
   ]
  },
  {
   "cell_type": "code",
   "execution_count": 14,
   "id": "f0caa5be",
   "metadata": {},
   "outputs": [
    {
     "data": {
      "text/plain": [
       "28"
      ]
     },
     "execution_count": 14,
     "metadata": {},
     "output_type": "execute_result"
    }
   ],
   "source": [
    "import sys\n",
    "\n",
    "\n",
    "sys.getsizeof(z)"
   ]
  },
  {
   "cell_type": "code",
   "execution_count": 21,
   "id": "2e827fe3",
   "metadata": {},
   "outputs": [
    {
     "data": {
      "text/plain": [
       "140735792490576"
      ]
     },
     "execution_count": 21,
     "metadata": {},
     "output_type": "execute_result"
    }
   ],
   "source": [
    "id(z)"
   ]
  },
  {
   "cell_type": "code",
   "execution_count": 42,
   "id": "bef6e775",
   "metadata": {},
   "outputs": [],
   "source": [
    "if x>y:\n",
    "    print('Yes')\n"
   ]
  },
  {
   "cell_type": "code",
   "execution_count": null,
   "id": "2d640da4",
   "metadata": {},
   "outputs": [],
   "source": []
  },
  {
   "cell_type": "code",
   "execution_count": 22,
   "id": "a8701286",
   "metadata": {},
   "outputs": [
    {
     "data": {
      "text/plain": [
       "int"
      ]
     },
     "execution_count": 22,
     "metadata": {},
     "output_type": "execute_result"
    }
   ],
   "source": [
    "type(x)"
   ]
  },
  {
   "cell_type": "code",
   "execution_count": 25,
   "id": "f66e60be",
   "metadata": {},
   "outputs": [
    {
     "data": {
      "text/plain": [
       "-20"
      ]
     },
     "execution_count": 25,
     "metadata": {},
     "output_type": "execute_result"
    }
   ],
   "source": [
    "type()"
   ]
  },
  {
   "cell_type": "code",
   "execution_count": 26,
   "id": "b084f6e6",
   "metadata": {},
   "outputs": [],
   "source": [
    "x = 'data science'"
   ]
  },
  {
   "cell_type": "code",
   "execution_count": 27,
   "id": "df4d370c",
   "metadata": {},
   "outputs": [
    {
     "data": {
      "text/plain": [
       "'data science'"
      ]
     },
     "execution_count": 27,
     "metadata": {},
     "output_type": "execute_result"
    }
   ],
   "source": [
    "x"
   ]
  },
  {
   "cell_type": "code",
   "execution_count": 28,
   "id": "e0afeced",
   "metadata": {},
   "outputs": [
    {
     "data": {
      "text/plain": [
       "2093596819888"
      ]
     },
     "execution_count": 28,
     "metadata": {},
     "output_type": "execute_result"
    }
   ],
   "source": [
    "id(x)"
   ]
  },
  {
   "cell_type": "code",
   "execution_count": 29,
   "id": "0452f361",
   "metadata": {},
   "outputs": [
    {
     "data": {
      "text/plain": [
       "str"
      ]
     },
     "execution_count": 29,
     "metadata": {},
     "output_type": "execute_result"
    }
   ],
   "source": [
    "type(x)"
   ]
  },
  {
   "cell_type": "code",
   "execution_count": 30,
   "id": "af8cfde9",
   "metadata": {},
   "outputs": [
    {
     "ename": "SyntaxError",
     "evalue": "invalid syntax (<ipython-input-30-dab392c2c700>, line 1)",
     "output_type": "error",
     "traceback": [
      "\u001b[1;36m  File \u001b[1;32m\"<ipython-input-30-dab392c2c700>\"\u001b[1;36m, line \u001b[1;32m1\u001b[0m\n\u001b[1;33m    9var = 10\u001b[0m\n\u001b[1;37m     ^\u001b[0m\n\u001b[1;31mSyntaxError\u001b[0m\u001b[1;31m:\u001b[0m invalid syntax\n"
     ]
    }
   ],
   "source": [
    "9var = 10"
   ]
  },
  {
   "cell_type": "code",
   "execution_count": 38,
   "id": "3428bec4",
   "metadata": {},
   "outputs": [],
   "source": [
    "#Camel\n",
    "varsitName = 'abc'\n",
    "#Pascal\n",
    "VarsityName = 'abd'\n",
    "#Snake\n",
    "varsity_name = 'abc'"
   ]
  },
  {
   "cell_type": "code",
   "execution_count": 56,
   "id": "7752d2d9",
   "metadata": {},
   "outputs": [
    {
     "ename": "ValueError",
     "evalue": "not enough values to unpack (expected 4, got 3)",
     "output_type": "error",
     "traceback": [
      "\u001b[1;31m---------------------------------------------------------------------------\u001b[0m",
      "\u001b[1;31mValueError\u001b[0m                                Traceback (most recent call last)",
      "\u001b[1;32m<ipython-input-56-273e4215c5af>\u001b[0m in \u001b[0;36m<module>\u001b[1;34m\u001b[0m\n\u001b[1;32m----> 1\u001b[1;33m \u001b[0mx\u001b[0m \u001b[1;33m,\u001b[0m \u001b[0my\u001b[0m\u001b[1;33m,\u001b[0m \u001b[0mz\u001b[0m\u001b[1;33m,\u001b[0m \u001b[0md\u001b[0m  \u001b[1;33m=\u001b[0m \u001b[1;34m'data'\u001b[0m\u001b[1;33m,\u001b[0m \u001b[1;34m'science'\u001b[0m\u001b[1;33m,\u001b[0m \u001b[1;34m'Fun'\u001b[0m\u001b[1;33m\u001b[0m\u001b[1;33m\u001b[0m\u001b[0m\n\u001b[0m",
      "\u001b[1;31mValueError\u001b[0m: not enough values to unpack (expected 4, got 3)"
     ]
    }
   ],
   "source": [
    "x , y, z, d  = 'data', 'science', 'Fun','aa'"
   ]
  },
  {
   "cell_type": "code",
   "execution_count": 53,
   "id": "b3fa2ca9",
   "metadata": {},
   "outputs": [
    {
     "data": {
      "text/plain": [
       "'data'"
      ]
     },
     "execution_count": 53,
     "metadata": {},
     "output_type": "execute_result"
    }
   ],
   "source": [
    "x"
   ]
  },
  {
   "cell_type": "code",
   "execution_count": 54,
   "id": "e6fb706a",
   "metadata": {},
   "outputs": [
    {
     "data": {
      "text/plain": [
       "'Fun'"
      ]
     },
     "execution_count": 54,
     "metadata": {},
     "output_type": "execute_result"
    }
   ],
   "source": [
    "z"
   ]
  },
  {
   "cell_type": "code",
   "execution_count": 51,
   "id": "36239f7c",
   "metadata": {},
   "outputs": [
    {
     "data": {
      "text/plain": [
       "'science'"
      ]
     },
     "execution_count": 51,
     "metadata": {},
     "output_type": "execute_result"
    }
   ],
   "source": [
    "y"
   ]
  },
  {
   "cell_type": "code",
   "execution_count": 55,
   "id": "532591ef",
   "metadata": {},
   "outputs": [
    {
     "data": {
      "text/plain": [
       "'aa'"
      ]
     },
     "execution_count": 55,
     "metadata": {},
     "output_type": "execute_result"
    }
   ],
   "source": [
    "d"
   ]
  },
  {
   "cell_type": "code",
   "execution_count": 66,
   "id": "6c9fa2d5",
   "metadata": {},
   "outputs": [
    {
     "name": "stdout",
     "output_type": "stream",
     "text": [
      "10\n",
      "10\n",
      "100\n"
     ]
    }
   ],
   "source": [
    "#Global vs Local\n",
    "x = 100\n",
    "def MyFunc():\n",
    "    x = 10\n",
    "    print()\n",
    "    print(x)\n",
    "MyFunc()\n",
    "print(x)"
   ]
  },
  {
   "cell_type": "code",
   "execution_count": 23,
   "id": "c216eb65",
   "metadata": {},
   "outputs": [
    {
     "name": "stdout",
     "output_type": "stream",
     "text": [
      "enter 120\n",
      "enter 234\n",
      "54\n"
     ]
    }
   ],
   "source": [
    "def myfunction(x,y):\n",
    "    ans= x+y\n",
    "    return ans\n",
    "x=int(input('enter 1'))\n",
    "y=int(input('enter 2'))\n",
    "\n",
    "print(myfunction(x,y))"
   ]
  },
  {
   "cell_type": "code",
   "execution_count": null,
   "id": "c337ec8d",
   "metadata": {},
   "outputs": [],
   "source": []
  },
  {
   "cell_type": "code",
   "execution_count": null,
   "id": "19e83dcb",
   "metadata": {},
   "outputs": [],
   "source": []
  },
  {
   "cell_type": "code",
   "execution_count": null,
   "id": "30154788",
   "metadata": {},
   "outputs": [],
   "source": [
    "def my():\n",
    "    #aaa\n",
    "my()"
   ]
  },
  {
   "cell_type": "code",
   "execution_count": null,
   "id": "43f29a99",
   "metadata": {},
   "outputs": [],
   "source": []
  },
  {
   "cell_type": "code",
   "execution_count": 67,
   "id": "2b46674d",
   "metadata": {},
   "outputs": [],
   "source": [
    "x = 'data science' #concat"
   ]
  },
  {
   "cell_type": "code",
   "execution_count": 68,
   "id": "9fee8e0b",
   "metadata": {},
   "outputs": [
    {
     "data": {
      "text/plain": [
       "str"
      ]
     },
     "execution_count": 68,
     "metadata": {},
     "output_type": "execute_result"
    }
   ],
   "source": [
    "type(x)"
   ]
  },
  {
   "cell_type": "code",
   "execution_count": 70,
   "id": "7ee3da91",
   "metadata": {},
   "outputs": [],
   "source": [
    "y = ' Fun'"
   ]
  },
  {
   "cell_type": "code",
   "execution_count": 71,
   "id": "e53b8c26",
   "metadata": {},
   "outputs": [
    {
     "data": {
      "text/plain": [
       "'data science Fun'"
      ]
     },
     "execution_count": 71,
     "metadata": {},
     "output_type": "execute_result"
    }
   ],
   "source": [
    "x+y"
   ]
  },
  {
   "cell_type": "code",
   "execution_count": 72,
   "id": "73fa8ca7",
   "metadata": {},
   "outputs": [
    {
     "name": "stdout",
     "output_type": "stream",
     "text": [
      "20\n"
     ]
    }
   ],
   "source": [
    "#input\n",
    "x = input()"
   ]
  },
  {
   "cell_type": "code",
   "execution_count": 77,
   "id": "f9c04e31",
   "metadata": {},
   "outputs": [],
   "source": [
    "x = int(x)"
   ]
  },
  {
   "cell_type": "code",
   "execution_count": 81,
   "id": "e89c8673",
   "metadata": {},
   "outputs": [
    {
     "name": "stdout",
     "output_type": "stream",
     "text": [
      "Please enter any value: 30\n",
      "Please enter any value: 40\n"
     ]
    }
   ],
   "source": [
    "y = int(input('Please enter any value: '))\n",
    "z = int(input('Please enter any value: '))"
   ]
  },
  {
   "cell_type": "code",
   "execution_count": 79,
   "id": "0170f897",
   "metadata": {},
   "outputs": [
    {
     "data": {
      "text/plain": [
       "50"
      ]
     },
     "execution_count": 79,
     "metadata": {},
     "output_type": "execute_result"
    }
   ],
   "source": [
    "x+y"
   ]
  },
  {
   "cell_type": "code",
   "execution_count": null,
   "id": "81b76f09",
   "metadata": {},
   "outputs": [],
   "source": [
    "x + bi #"
   ]
  },
  {
   "cell_type": "markdown",
   "id": "20270a1d",
   "metadata": {},
   "source": [
    "# LIST"
   ]
  },
  {
   "cell_type": "code",
   "execution_count": 1,
   "id": "1d745289",
   "metadata": {},
   "outputs": [],
   "source": [
    "L1 = [1,2,3,4,'DATA','SCIENCE',True,False,1,2,3,4,2,1,2,3,4,'DATA','SCIENCE',True,False]"
   ]
  },
  {
   "cell_type": "code",
   "execution_count": 2,
   "id": "1aee4f41",
   "metadata": {},
   "outputs": [
    {
     "data": {
      "text/plain": [
       "21"
      ]
     },
     "execution_count": 2,
     "metadata": {},
     "output_type": "execute_result"
    }
   ],
   "source": [
    "len(L1)"
   ]
  },
  {
   "cell_type": "code",
   "execution_count": 3,
   "id": "0a460341",
   "metadata": {},
   "outputs": [
    {
     "data": {
      "text/plain": [
       "224"
      ]
     },
     "execution_count": 3,
     "metadata": {},
     "output_type": "execute_result"
    }
   ],
   "source": [
    "import sys\n",
    "\n",
    "sys.getsizeof(L1)"
   ]
  },
  {
   "cell_type": "code",
   "execution_count": 89,
   "id": "17057830",
   "metadata": {},
   "outputs": [
    {
     "data": {
      "text/plain": [
       "list"
      ]
     },
     "execution_count": 89,
     "metadata": {},
     "output_type": "execute_result"
    }
   ],
   "source": [
    "type(L1)"
   ]
  },
  {
   "cell_type": "code",
   "execution_count": 91,
   "id": "c4ffb06f",
   "metadata": {},
   "outputs": [
    {
     "data": {
      "text/plain": [
       "False"
      ]
     },
     "execution_count": 91,
     "metadata": {},
     "output_type": "execute_result"
    }
   ],
   "source": [
    "L1[-1]"
   ]
  },
  {
   "cell_type": "code",
   "execution_count": 94,
   "id": "ed501ddf",
   "metadata": {},
   "outputs": [
    {
     "data": {
      "text/plain": [
       "str"
      ]
     },
     "execution_count": 94,
     "metadata": {},
     "output_type": "execute_result"
    }
   ],
   "source": [
    "type(L1[5])"
   ]
  },
  {
   "cell_type": "code",
   "execution_count": 97,
   "id": "89a0510d",
   "metadata": {},
   "outputs": [
    {
     "data": {
      "text/plain": [
       "[4, 'DATA', 'SCIENCE']"
      ]
     },
     "execution_count": 97,
     "metadata": {},
     "output_type": "execute_result"
    }
   ],
   "source": [
    "L1[3:6]"
   ]
  },
  {
   "cell_type": "code",
   "execution_count": 98,
   "id": "9620ce47",
   "metadata": {},
   "outputs": [],
   "source": [
    "L1[0] = 'shopon'"
   ]
  },
  {
   "cell_type": "code",
   "execution_count": 112,
   "id": "b2ddbd46",
   "metadata": {},
   "outputs": [
    {
     "data": {
      "text/plain": [
       "[1, 2, 3, 4, 'DATA', 'SCIENCE', True, False]"
      ]
     },
     "execution_count": 112,
     "metadata": {},
     "output_type": "execute_result"
    }
   ],
   "source": [
    "L1"
   ]
  },
  {
   "cell_type": "code",
   "execution_count": 113,
   "id": "94b38601",
   "metadata": {},
   "outputs": [],
   "source": [
    "L1.append('Ahmed')"
   ]
  },
  {
   "cell_type": "code",
   "execution_count": 114,
   "id": "26db07b4",
   "metadata": {},
   "outputs": [],
   "source": [
    "L1.insert(4,'shohel vaia')"
   ]
  },
  {
   "cell_type": "code",
   "execution_count": 115,
   "id": "7f629d70",
   "metadata": {},
   "outputs": [
    {
     "data": {
      "text/plain": [
       "[1, 2, 3, 4, 'shohel vaia', 'DATA', 'SCIENCE', True, False, 'Ahmed']"
      ]
     },
     "execution_count": 115,
     "metadata": {},
     "output_type": "execute_result"
    }
   ],
   "source": [
    "L1"
   ]
  },
  {
   "cell_type": "code",
   "execution_count": 104,
   "id": "b087f7db",
   "metadata": {},
   "outputs": [],
   "source": [
    "L1.remove('shopon')"
   ]
  },
  {
   "cell_type": "code",
   "execution_count": 105,
   "id": "802031c8",
   "metadata": {},
   "outputs": [
    {
     "data": {
      "text/plain": [
       "['shohel vaia', 2, 3, 4, 'DATA', 'SCIENCE', True, False, 'Ahmed']"
      ]
     },
     "execution_count": 105,
     "metadata": {},
     "output_type": "execute_result"
    }
   ],
   "source": [
    "L1"
   ]
  },
  {
   "cell_type": "code",
   "execution_count": 107,
   "id": "f8227aa1",
   "metadata": {},
   "outputs": [
    {
     "data": {
      "text/plain": [
       "'Ahmed'"
      ]
     },
     "execution_count": 107,
     "metadata": {},
     "output_type": "execute_result"
    }
   ],
   "source": [
    "L1.pop(8)"
   ]
  },
  {
   "cell_type": "code",
   "execution_count": 108,
   "id": "2cebe26f",
   "metadata": {},
   "outputs": [
    {
     "data": {
      "text/plain": [
       "['shohel vaia', 2, 3, 4, 'DATA', 'SCIENCE', True, False]"
      ]
     },
     "execution_count": 108,
     "metadata": {},
     "output_type": "execute_result"
    }
   ],
   "source": [
    "L1"
   ]
  },
  {
   "cell_type": "code",
   "execution_count": 109,
   "id": "3dcf2e40",
   "metadata": {},
   "outputs": [],
   "source": [
    "del L1[4]"
   ]
  },
  {
   "cell_type": "code",
   "execution_count": 110,
   "id": "d6758ad8",
   "metadata": {},
   "outputs": [
    {
     "data": {
      "text/plain": [
       "['shohel vaia', 2, 3, 4, 'SCIENCE', True, False]"
      ]
     },
     "execution_count": 110,
     "metadata": {},
     "output_type": "execute_result"
    }
   ],
   "source": [
    "L1"
   ]
  },
  {
   "cell_type": "code",
   "execution_count": 130,
   "id": "25e278d0",
   "metadata": {},
   "outputs": [],
   "source": [
    "l2 = list(('data science','123')) #list[]"
   ]
  },
  {
   "cell_type": "code",
   "execution_count": 132,
   "id": "bd107d09",
   "metadata": {},
   "outputs": [
    {
     "data": {
      "text/plain": [
       "list"
      ]
     },
     "execution_count": 132,
     "metadata": {},
     "output_type": "execute_result"
    }
   ],
   "source": [
    "type(l2)"
   ]
  },
  {
   "cell_type": "code",
   "execution_count": 118,
   "id": "14229706",
   "metadata": {},
   "outputs": [
    {
     "ename": "AttributeError",
     "evalue": "'list' object has no attribute 'upper'",
     "output_type": "error",
     "traceback": [
      "\u001b[1;31m---------------------------------------------------------------------------\u001b[0m",
      "\u001b[1;31mAttributeError\u001b[0m                            Traceback (most recent call last)",
      "\u001b[1;32m<ipython-input-118-77cf7113b0e6>\u001b[0m in \u001b[0;36m<module>\u001b[1;34m\u001b[0m\n\u001b[1;32m----> 1\u001b[1;33m \u001b[0mL1\u001b[0m\u001b[1;33m.\u001b[0m\u001b[0mupper\u001b[0m\u001b[1;33m(\u001b[0m\u001b[1;33m)\u001b[0m\u001b[1;33m\u001b[0m\u001b[1;33m\u001b[0m\u001b[0m\n\u001b[0m",
      "\u001b[1;31mAttributeError\u001b[0m: 'list' object has no attribute 'upper'"
     ]
    }
   ],
   "source": [
    "L1.upper()"
   ]
  },
  {
   "cell_type": "code",
   "execution_count": 135,
   "id": "1a52132c",
   "metadata": {},
   "outputs": [],
   "source": [
    "l3 = [1,2,3,4 ,4,4,4,[23,4],7]"
   ]
  },
  {
   "cell_type": "code",
   "execution_count": 136,
   "id": "22cdfc07",
   "metadata": {},
   "outputs": [
    {
     "data": {
      "text/plain": [
       "[1, 2, 3, 4, 4, 4, 4, [23, 4], 7]"
      ]
     },
     "execution_count": 136,
     "metadata": {},
     "output_type": "execute_result"
    }
   ],
   "source": [
    "l3"
   ]
  },
  {
   "cell_type": "code",
   "execution_count": 140,
   "id": "7a9f960f",
   "metadata": {},
   "outputs": [
    {
     "data": {
      "text/plain": [
       "23"
      ]
     },
     "execution_count": 140,
     "metadata": {},
     "output_type": "execute_result"
    }
   ],
   "source": [
    "l3[7][0]"
   ]
  },
  {
   "cell_type": "code",
   "execution_count": null,
   "id": "a3acb518",
   "metadata": {},
   "outputs": [],
   "source": []
  },
  {
   "cell_type": "code",
   "execution_count": 141,
   "id": "db89d7d6",
   "metadata": {},
   "outputs": [],
   "source": [
    "dic = {\n",
    "    'name' : 'shohel',\n",
    "    'age' : 45\n",
    "}"
   ]
  },
  {
   "cell_type": "code",
   "execution_count": 142,
   "id": "e1e07523",
   "metadata": {},
   "outputs": [
    {
     "data": {
      "text/plain": [
       "{'name': 'shohel', 'age': 45}"
      ]
     },
     "execution_count": 142,
     "metadata": {},
     "output_type": "execute_result"
    }
   ],
   "source": [
    "dic"
   ]
  },
  {
   "cell_type": "code",
   "execution_count": null,
   "id": "4dcf37ce",
   "metadata": {},
   "outputs": [],
   "source": []
  }
 ],
 "metadata": {
  "kernelspec": {
   "display_name": "Python 3",
   "language": "python",
   "name": "python3"
  },
  "language_info": {
   "codemirror_mode": {
    "name": "ipython",
    "version": 3
   },
   "file_extension": ".py",
   "mimetype": "text/x-python",
   "name": "python",
   "nbconvert_exporter": "python",
   "pygments_lexer": "ipython3",
   "version": "3.8.8"
  }
 },
 "nbformat": 4,
 "nbformat_minor": 5
}
